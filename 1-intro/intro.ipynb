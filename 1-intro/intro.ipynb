{
 "cells": [
  {
   "cell_type": "code",
   "execution_count": null,
   "metadata": {
    "colab": {},
    "colab_type": "code",
    "id": "8xGjhkNPp9gJ"
   },
   "outputs": [],
   "source": [
    "STUDENT_ID = \"<Emelianov Timofey 412>\""
   ]
  },
  {
   "cell_type": "markdown",
   "metadata": {},
   "source": [
    "Датасет вы можете скачать тут https://www.kaggle.com/c/dogs-vs-cats"
   ]
  },
  {
   "cell_type": "code",
   "execution_count": null,
   "metadata": {
    "colab": {
     "base_uri": "https://localhost:8080/",
     "height": 127
    },
    "colab_type": "code",
    "id": "zp24eLvK5Jjf",
    "outputId": "cdffd224-d581-4643-9006-7996bb4021e1"
   },
   "outputs": [
    {
     "name": "stdout",
     "output_type": "stream",
     "text": [
      "Go to this URL in a browser: https://accounts.google.com/o/oauth2/auth?client_id=947318989803-6bn6qk8qdgf4n4g3pfee6491hc0brc4i.apps.googleusercontent.com&redirect_uri=urn%3aietf%3awg%3aoauth%3a2.0%3aoob&response_type=code&scope=email%20https%3a%2f%2fwww.googleapis.com%2fauth%2fdocs.test%20https%3a%2f%2fwww.googleapis.com%2fauth%2fdrive%20https%3a%2f%2fwww.googleapis.com%2fauth%2fdrive.photos.readonly%20https%3a%2f%2fwww.googleapis.com%2fauth%2fpeopleapi.readonly\n",
      "\n",
      "Enter your authorization code:\n",
      "··········\n",
      "Mounted at /content/gdrive\n"
     ]
    }
   ],
   "source": [
    "from google.colab import drive \n",
    "drive.mount('/content/gdrive', force_remount=True)"
   ]
  },
  {
   "cell_type": "code",
   "execution_count": null,
   "metadata": {
    "colab": {},
    "colab_type": "code",
    "id": "3Xru8Vm87Rs7"
   },
   "outputs": [],
   "source": [
    "!cp -r /content/gdrive/'My Drive'/train train"
   ]
  },
  {
   "cell_type": "code",
   "execution_count": null,
   "metadata": {
    "colab": {
     "base_uri": "https://localhost:8080/",
     "height": 35
    },
    "colab_type": "code",
    "id": "qi_2tRWsp9gR",
    "outputId": "65b64bbf-23e3-44ce-bb43-14271963b8c5"
   },
   "outputs": [
    {
     "name": "stdout",
     "output_type": "stream",
     "text": [
      "/content/gdrive/My Drive/train\n"
     ]
    }
   ],
   "source": [
    "import pandas as pd\n",
    "import pathlib\n",
    "import hashlib\n",
    "import numpy as np\n",
    "import random\n",
    "\n",
    "\n",
    "train_directory = pathlib.Path('/content/gdrive/My Drive/train')\n",
    "print(train_directory)\n",
    "sample_size = 5000\n",
    "\n",
    "def initialize_random_seed():\n",
    "    \"\"\"Инициализирует ГПСЧ из STUDENT_ID\"\"\"\n",
    "    sha256 = hashlib.sha256()\n",
    "    sha256.update(STUDENT_ID.encode(\"utf-8\"))\n",
    "    \n",
    "    fingerprint = int(sha256.hexdigest(), 16) % (2**32)\n",
    "    random.seed(fingerprint)\n",
    "    np.random.seed(fingerprint)\n",
    "\n",
    "\n",
    "def read_target_variable():\n",
    "    \"\"\"Прочитаем разметку фотографий из названий файлов\"\"\"\n",
    "    target_variable = {\n",
    "        \"filename\": [],\n",
    "        \"is_cat\": []\n",
    "    }\n",
    "    image_paths = list(train_directory.glob(\"*.jpg\"))\n",
    "    random.shuffle(image_paths)\n",
    "    for image_path in image_paths[:sample_size]:\n",
    "        filename = image_path.name\n",
    "        class_name = filename.split(\".\")[0]\n",
    "        target_variable[\"filename\"].append(filename)\n",
    "        target_variable[\"is_cat\"].append(class_name == \"cat\")\n",
    "\n",
    "    return pd.DataFrame(data=target_variable)\n",
    "\n",
    "\n",
    "initialize_random_seed()\n",
    "\n",
    "target_df = read_target_variable()"
   ]
  },
  {
   "cell_type": "code",
   "execution_count": null,
   "metadata": {
    "colab": {
     "base_uri": "https://localhost:8080/",
     "height": 67,
     "referenced_widgets": [
      "c2caae77fe8b4416bdf934dc44163662",
      "d79f4613542c443a9f6690a9ebb34e85",
      "97b72bd3d3c24ea1981ac7801ffe19ab",
      "e52e025504fb4ee58537787e30d50615",
      "24c3fd7bf62144c2b7783811174ea9a6",
      "a1c38240e5ff432499b26d1c4cbf6e1a",
      "7120678a68ae4a2e88efb70d717a3ddf",
      "4f8c918c4fab42708f043efe893d0c4e"
     ]
    },
    "colab_type": "code",
    "id": "govVlM8jp9gW",
    "outputId": "e20b18e4-1d80-4d33-ea1a-8257731619a1"
   },
   "outputs": [
    {
     "data": {
      "application/vnd.jupyter.widget-view+json": {
       "model_id": "c2caae77fe8b4416bdf934dc44163662",
       "version_major": 2,
       "version_minor": 0
      },
      "text/plain": [
       "HBox(children=(IntProgress(value=0, max=5000), HTML(value='')))"
      ]
     },
     "metadata": {
      "tags": []
     },
     "output_type": "display_data"
    },
    {
     "name": "stdout",
     "output_type": "stream",
     "text": [
      "\n"
     ]
    }
   ],
   "source": [
    "from PIL import Image\n",
    "from tqdm import tqdm_notebook\n",
    "\n",
    "\n",
    "def read_data(target_df):\n",
    "    \"\"\"Читает данные изображений и строит их признаковое описание\"\"\"\n",
    "    image_size = (100, 100)\n",
    "    features = []\n",
    "    target = []\n",
    "    for i, image_name, is_cat in tqdm_notebook(target_df.itertuples(), total=len(target_df)):\n",
    "        image_path = str(train_directory / image_name)\n",
    "        image = Image.open(image_path)\n",
    "        image = image.resize(image_size) # уменьшаем изображения\n",
    "        image = image.convert('LA') # преобразуем в Ч\\Б\n",
    "        pixels = np.asarray(image)[:, :, 0]\n",
    "        pixels = pixels.flatten()\n",
    "        features.append(pixels)\n",
    "        target.append(is_cat)\n",
    "    return np.array(features), np.array(target)\n",
    "\n",
    "features, target = read_data(target_df)"
   ]
  },
  {
   "cell_type": "code",
   "execution_count": null,
   "metadata": {
    "colab": {},
    "colab_type": "code",
    "id": "SWGh_zK3p9gb"
   },
   "outputs": [],
   "source": [
    "from sklearn.datasets import fetch_openml\n",
    "from sklearn import linear_model\n",
    "from sklearn.model_selection import train_test_split\n",
    "from sklearn.preprocessing import StandardScaler\n",
    "from sklearn.utils import check_random_state\n",
    "\n",
    "x, x_test, y, y_test = train_test_split(features, target, test_size=0.2, train_size=0.8)\n",
    "x_train, x_v, y_train, y_v = train_test_split(x, y, test_size = 0.25, train_size =0.75)"
   ]
  },
  {
   "cell_type": "code",
   "execution_count": null,
   "metadata": {
    "colab": {},
    "colab_type": "code",
    "id": "QYFFBgD3p9gf"
   },
   "outputs": [],
   "source": [
    "scaler = StandardScaler()\n",
    "\n",
    "x_train = scaler.fit_transform(x_train)\n",
    "x_v = scaler.fit_transform(x_v)\n",
    "x_test = scaler.transform(x_test)"
   ]
  },
  {
   "cell_type": "code",
   "execution_count": null,
   "metadata": {
    "colab": {
     "base_uri": "https://localhost:8080/",
     "height": 35
    },
    "colab_type": "code",
    "id": "L1HrBCpQp9gi",
    "outputId": "a721d15b-80ed-45c3-c8af-6aa20ec30d1a"
   },
   "outputs": [
    {
     "name": "stdout",
     "output_type": "stream",
     "text": [
      "0.7193333333333334 0.628 0.587\n"
     ]
    }
   ],
   "source": [
    "clf = linear_model.SGDClassifier(loss=\"log\", learning_rate = \"constant\", eta0 = 0.8)\n",
    "clf.fit(x_train, y_train)\n",
    "\n",
    "score_train = clf.score(x_train, y_train)\n",
    "score_v = clf.score(x_v, y_v)\n",
    "score_test = clf.score(x_test, y_test)\n",
    "print(score_train, score_v, score_test)"
   ]
  },
  {
   "cell_type": "code",
   "execution_count": null,
   "metadata": {
    "colab": {
     "base_uri": "https://localhost:8080/",
     "height": 35
    },
    "colab_type": "code",
    "id": "_mgj2ovRp9gn",
    "outputId": "d17db483-e763-4934-cc54-4efda2fcf177"
   },
   "outputs": [
    {
     "name": "stdout",
     "output_type": "stream",
     "text": [
      "0.7976666666666666 0.666\n"
     ]
    }
   ],
   "source": [
    "from sklearn.neighbors import KNeighborsClassifier\n",
    "\n",
    "knn = KNeighborsClassifier(n_neighbors=3)\n",
    "\n",
    "knn.fit(x_train, y_train)\n",
    "\n",
    "score_train = knn.score(x_train, y_train)\n",
    "score_test = knn.score(x_test, y_test)\n",
    "print(score_train, score_test)"
   ]
  },
  {
   "cell_type": "code",
   "execution_count": null,
   "metadata": {
    "colab": {
     "base_uri": "https://localhost:8080/",
     "height": 35
    },
    "colab_type": "code",
    "id": "AVmaIgfbRtk5",
    "outputId": "36bc0a38-6726-400c-fc76-59349a67e952"
   },
   "outputs": [
    {
     "name": "stdout",
     "output_type": "stream",
     "text": [
      "0.704\n"
     ]
    }
   ],
   "source": [
    "from sklearn.ensemble import RandomForestClassifier\n",
    "\n",
    "clf=RandomForestClassifier(n_estimators=220)\n",
    "clf.fit(x_train, y_train)\n",
    "\n",
    "score_test = clf.score(x_test, y_test)\n",
    "print(score_test)"
   ]
  },
  {
   "cell_type": "code",
   "execution_count": null,
   "metadata": {
    "colab": {
     "base_uri": "https://localhost:8080/",
     "height": 35
    },
    "colab_type": "code",
    "id": "g5Bx1yRnRxy5",
    "outputId": "02fe31e3-fb0d-41f4-d493-f9e6077fed9f"
   },
   "outputs": [
    {
     "name": "stdout",
     "output_type": "stream",
     "text": [
      "[0.69166667 0.69333333 0.69166667 0.70333333 0.68333333]\n"
     ]
    }
   ],
   "source": [
    "from sklearn.model_selection import cross_val_score\n",
    "\n",
    "print(cross_val_score(clf, x_train, y_train, cv=5))"
   ]
  }
 ],
 "metadata": {
  "accelerator": "GPU",
  "colab": {
   "collapsed_sections": [],
   "name": "hello.ipynb",
   "provenance": [],
   "toc_visible": true
  },
  "kernelspec": {
   "display_name": "Python 3",
   "language": "python",
   "name": "python3"
  },
  "language_info": {
   "codemirror_mode": {
    "name": "ipython",
    "version": 3
   },
   "file_extension": ".py",
   "mimetype": "text/x-python",
   "name": "python",
   "nbconvert_exporter": "python",
   "pygments_lexer": "ipython3",
   "version": "3.7.6"
  },
  "widgets": {
   "application/vnd.jupyter.widget-state+json": {
    "24c3fd7bf62144c2b7783811174ea9a6": {
     "model_module": "@jupyter-widgets/controls",
     "model_name": "ProgressStyleModel",
     "state": {
      "_model_module": "@jupyter-widgets/controls",
      "_model_module_version": "1.5.0",
      "_model_name": "ProgressStyleModel",
      "_view_count": null,
      "_view_module": "@jupyter-widgets/base",
      "_view_module_version": "1.2.0",
      "_view_name": "StyleView",
      "bar_color": null,
      "description_width": ""
     }
    },
    "4f8c918c4fab42708f043efe893d0c4e": {
     "model_module": "@jupyter-widgets/base",
     "model_name": "LayoutModel",
     "state": {
      "_model_module": "@jupyter-widgets/base",
      "_model_module_version": "1.2.0",
      "_model_name": "LayoutModel",
      "_view_count": null,
      "_view_module": "@jupyter-widgets/base",
      "_view_module_version": "1.2.0",
      "_view_name": "LayoutView",
      "align_content": null,
      "align_items": null,
      "align_self": null,
      "border": null,
      "bottom": null,
      "display": null,
      "flex": null,
      "flex_flow": null,
      "grid_area": null,
      "grid_auto_columns": null,
      "grid_auto_flow": null,
      "grid_auto_rows": null,
      "grid_column": null,
      "grid_gap": null,
      "grid_row": null,
      "grid_template_areas": null,
      "grid_template_columns": null,
      "grid_template_rows": null,
      "height": null,
      "justify_content": null,
      "justify_items": null,
      "left": null,
      "margin": null,
      "max_height": null,
      "max_width": null,
      "min_height": null,
      "min_width": null,
      "object_fit": null,
      "object_position": null,
      "order": null,
      "overflow": null,
      "overflow_x": null,
      "overflow_y": null,
      "padding": null,
      "right": null,
      "top": null,
      "visibility": null,
      "width": null
     }
    },
    "7120678a68ae4a2e88efb70d717a3ddf": {
     "model_module": "@jupyter-widgets/controls",
     "model_name": "DescriptionStyleModel",
     "state": {
      "_model_module": "@jupyter-widgets/controls",
      "_model_module_version": "1.5.0",
      "_model_name": "DescriptionStyleModel",
      "_view_count": null,
      "_view_module": "@jupyter-widgets/base",
      "_view_module_version": "1.2.0",
      "_view_name": "StyleView",
      "description_width": ""
     }
    },
    "97b72bd3d3c24ea1981ac7801ffe19ab": {
     "model_module": "@jupyter-widgets/controls",
     "model_name": "IntProgressModel",
     "state": {
      "_dom_classes": [],
      "_model_module": "@jupyter-widgets/controls",
      "_model_module_version": "1.5.0",
      "_model_name": "IntProgressModel",
      "_view_count": null,
      "_view_module": "@jupyter-widgets/controls",
      "_view_module_version": "1.5.0",
      "_view_name": "ProgressView",
      "bar_style": "success",
      "description": "",
      "description_tooltip": null,
      "layout": "IPY_MODEL_a1c38240e5ff432499b26d1c4cbf6e1a",
      "max": 5000,
      "min": 0,
      "orientation": "horizontal",
      "style": "IPY_MODEL_24c3fd7bf62144c2b7783811174ea9a6",
      "value": 5000
     }
    },
    "a1c38240e5ff432499b26d1c4cbf6e1a": {
     "model_module": "@jupyter-widgets/base",
     "model_name": "LayoutModel",
     "state": {
      "_model_module": "@jupyter-widgets/base",
      "_model_module_version": "1.2.0",
      "_model_name": "LayoutModel",
      "_view_count": null,
      "_view_module": "@jupyter-widgets/base",
      "_view_module_version": "1.2.0",
      "_view_name": "LayoutView",
      "align_content": null,
      "align_items": null,
      "align_self": null,
      "border": null,
      "bottom": null,
      "display": null,
      "flex": null,
      "flex_flow": null,
      "grid_area": null,
      "grid_auto_columns": null,
      "grid_auto_flow": null,
      "grid_auto_rows": null,
      "grid_column": null,
      "grid_gap": null,
      "grid_row": null,
      "grid_template_areas": null,
      "grid_template_columns": null,
      "grid_template_rows": null,
      "height": null,
      "justify_content": null,
      "justify_items": null,
      "left": null,
      "margin": null,
      "max_height": null,
      "max_width": null,
      "min_height": null,
      "min_width": null,
      "object_fit": null,
      "object_position": null,
      "order": null,
      "overflow": null,
      "overflow_x": null,
      "overflow_y": null,
      "padding": null,
      "right": null,
      "top": null,
      "visibility": null,
      "width": null
     }
    },
    "c2caae77fe8b4416bdf934dc44163662": {
     "model_module": "@jupyter-widgets/controls",
     "model_name": "HBoxModel",
     "state": {
      "_dom_classes": [],
      "_model_module": "@jupyter-widgets/controls",
      "_model_module_version": "1.5.0",
      "_model_name": "HBoxModel",
      "_view_count": null,
      "_view_module": "@jupyter-widgets/controls",
      "_view_module_version": "1.5.0",
      "_view_name": "HBoxView",
      "box_style": "",
      "children": [
       "IPY_MODEL_97b72bd3d3c24ea1981ac7801ffe19ab",
       "IPY_MODEL_e52e025504fb4ee58537787e30d50615"
      ],
      "layout": "IPY_MODEL_d79f4613542c443a9f6690a9ebb34e85"
     }
    },
    "d79f4613542c443a9f6690a9ebb34e85": {
     "model_module": "@jupyter-widgets/base",
     "model_name": "LayoutModel",
     "state": {
      "_model_module": "@jupyter-widgets/base",
      "_model_module_version": "1.2.0",
      "_model_name": "LayoutModel",
      "_view_count": null,
      "_view_module": "@jupyter-widgets/base",
      "_view_module_version": "1.2.0",
      "_view_name": "LayoutView",
      "align_content": null,
      "align_items": null,
      "align_self": null,
      "border": null,
      "bottom": null,
      "display": null,
      "flex": null,
      "flex_flow": null,
      "grid_area": null,
      "grid_auto_columns": null,
      "grid_auto_flow": null,
      "grid_auto_rows": null,
      "grid_column": null,
      "grid_gap": null,
      "grid_row": null,
      "grid_template_areas": null,
      "grid_template_columns": null,
      "grid_template_rows": null,
      "height": null,
      "justify_content": null,
      "justify_items": null,
      "left": null,
      "margin": null,
      "max_height": null,
      "max_width": null,
      "min_height": null,
      "min_width": null,
      "object_fit": null,
      "object_position": null,
      "order": null,
      "overflow": null,
      "overflow_x": null,
      "overflow_y": null,
      "padding": null,
      "right": null,
      "top": null,
      "visibility": null,
      "width": null
     }
    },
    "e52e025504fb4ee58537787e30d50615": {
     "model_module": "@jupyter-widgets/controls",
     "model_name": "HTMLModel",
     "state": {
      "_dom_classes": [],
      "_model_module": "@jupyter-widgets/controls",
      "_model_module_version": "1.5.0",
      "_model_name": "HTMLModel",
      "_view_count": null,
      "_view_module": "@jupyter-widgets/controls",
      "_view_module_version": "1.5.0",
      "_view_name": "HTMLView",
      "description": "",
      "description_tooltip": null,
      "layout": "IPY_MODEL_4f8c918c4fab42708f043efe893d0c4e",
      "placeholder": "​",
      "style": "IPY_MODEL_7120678a68ae4a2e88efb70d717a3ddf",
      "value": "100% 5000/5000 [24:18&lt;00:00,  3.65it/s]"
     }
    }
   }
  }
 },
 "nbformat": 4,
 "nbformat_minor": 1
}
