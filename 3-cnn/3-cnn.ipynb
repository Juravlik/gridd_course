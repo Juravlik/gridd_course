{
 "cells": [
  {
   "cell_type": "markdown",
   "metadata": {},
   "source": [
    "В этой версии добавлена аугментация, а также используется датасет, который собирался вручную (содержит ~1000 картинок каждого класса).  \n",
    "\n",
    "star_wars: https://drive.google.com/file/d/1SrQiEci3L6X84ywf92UK0OQzp7Khgn4U/view?usp=sharing"
   ]
  },
  {
   "cell_type": "code",
   "execution_count": 0,
   "metadata": {
    "colab": {},
    "colab_type": "code",
    "id": "XA-vJNImlDKV"
   },
   "outputs": [],
   "source": [
    "import numpy as np\n",
    "import torch\n",
    "import os\n",
    "import cv2\n",
    "from tqdm import tqdm\n",
    "from torch.utils.data import Dataset, DataLoader\n",
    "from torchvision.models import resnet34\n",
    "from google.colab import auth\n",
    "from googleapiclient.discovery import build\n",
    "from torchvision import transforms\n",
    "from sklearn.model_selection import train_test_split\n",
    "from sklearn.metrics import accuracy_score\n",
    "from matplotlib import pyplot as plt\n",
    "import random\n",
    "from scipy import ndarray\n",
    "import skimage as sk\n",
    "from skimage import transform\n",
    "from skimage import util\n",
    "from skimage import io\n",
    "from PIL import Image"
   ]
  },
  {
   "cell_type": "code",
   "execution_count": 0,
   "metadata": {
    "colab": {
     "base_uri": "https://localhost:8080/",
     "height": 122
    },
    "colab_type": "code",
    "id": "oXN-Y2OClNAW",
    "outputId": "649007ff-5fbe-48f6-e415-1fc537141469"
   },
   "outputs": [
    {
     "name": "stdout",
     "output_type": "stream",
     "text": [
      "Go to this URL in a browser: https://accounts.google.com/o/oauth2/auth?client_id=947318989803-6bn6qk8qdgf4n4g3pfee6491hc0brc4i.apps.googleusercontent.com&redirect_uri=urn%3aietf%3awg%3aoauth%3a2.0%3aoob&response_type=code&scope=email%20https%3a%2f%2fwww.googleapis.com%2fauth%2fdocs.test%20https%3a%2f%2fwww.googleapis.com%2fauth%2fdrive%20https%3a%2f%2fwww.googleapis.com%2fauth%2fdrive.photos.readonly%20https%3a%2f%2fwww.googleapis.com%2fauth%2fpeopleapi.readonly\n",
      "\n",
      "Enter your authorization code:\n",
      "··········\n",
      "Mounted at /content/gdrive\n"
     ]
    }
   ],
   "source": [
    "from google.colab import drive \n",
    "from zipfile import ZipFile\n",
    "\n",
    "drive.mount('/content/gdrive', force_remount=True)\n",
    "!cp -r /content/gdrive/'My Drive'/star_wars.zip ."
   ]
  },
  {
   "cell_type": "code",
   "execution_count": 0,
   "metadata": {
    "colab": {
     "base_uri": "https://localhost:8080/",
     "height": 34
    },
    "colab_type": "code",
    "id": "qBAaTkI6loB-",
    "outputId": "0a61b4a4-e75c-4d7c-9b00-cd629cd2b734"
   },
   "outputs": [
    {
     "name": "stdout",
     "output_type": "stream",
     "text": [
      "Done\n"
     ]
    }
   ],
   "source": [
    "with ZipFile(\"star_wars.zip\", 'r') as zipfile:\n",
    "  zipfile.extractall()\n",
    "  print('Done')"
   ]
  },
  {
   "cell_type": "code",
   "execution_count": 0,
   "metadata": {
    "colab": {
     "base_uri": "https://localhost:8080/",
     "height": 85
    },
    "colab_type": "code",
    "id": "KEPFRLAOmEVj",
    "outputId": "e15e1d6a-c9dd-438d-d8d9-01a9b9bc3ab4"
   },
   "outputs": [
    {
     "name": "stdout",
     "output_type": "stream",
     "text": [
      "берем файлы из папки \"chewbacca\" и даем им класс 0\n",
      "берем файлы из папки \"darth_vader\" и даем им класс 1\n",
      "берем файлы из папки \"luke_skywalker\" и даем им класс 2\n",
      "берем файлы из папки \"princess_leia\" и даем им класс 3\n"
     ]
    }
   ],
   "source": [
    "filenames = []\n",
    "labels = []\n",
    "dataset = []\n",
    "for idx, class_dir in enumerate(os.listdir(\"star_wars\")):\n",
    "  print(f\"берем файлы из папки \\\"{class_dir}\\\" и даем им класс {idx}\")\n",
    "  \n",
    "  # не берем файлы кроме .jpg .jpeg и .png\n",
    "  for file in os.listdir(os.path.join(\"star_wars\", class_dir)):\n",
    "    if not file.endswith(('.jpg', '.jpeg', '.png')):\n",
    "      continue\n",
    "    img = cv2.imread(os.path.join(\"star_wars\", class_dir, file))\n",
    "    gray = cv2.cvtColor(img, cv2.COLOR_BGR2GRAY)\n",
    "    dataset.append(img)\n",
    "    labels.append(idx)\n",
    "#print(dataset[0].shape)"
   ]
  },
  {
   "cell_type": "code",
   "execution_count": 0,
   "metadata": {
    "colab": {
     "base_uri": "https://localhost:8080/",
     "height": 34
    },
    "colab_type": "code",
    "id": "pRKfDvWtmXKe",
    "outputId": "5503fe70-49df-4126-d339-420a477df557"
   },
   "outputs": [
    {
     "name": "stdout",
     "output_type": "stream",
     "text": [
      "3103\n"
     ]
    }
   ],
   "source": [
    "train_x, test_x, train_y, test_y = train_test_split(dataset, labels, test_size=0.3)\n",
    "print(len(train_x))"
   ]
  },
  {
   "cell_type": "code",
   "execution_count": 0,
   "metadata": {
    "colab": {
     "base_uri": "https://localhost:8080/",
     "height": 34
    },
    "colab_type": "code",
    "id": "6f_nI6uThgm8",
    "outputId": "8a25c1f9-32b8-4efc-d2a2-8eb5f8c4b6b6"
   },
   "outputs": [
    {
     "name": "stdout",
     "output_type": "stream",
     "text": [
      "3683 3683\n"
     ]
    }
   ],
   "source": [
    "aug_train_x = []\n",
    "aug_train_y = []\n",
    "for x, y in zip(train_x, train_y):\n",
    "  key = False\n",
    "  new_img = x\n",
    "  if random.random() < 0.08:\n",
    "    new_img = new_img[:, ::-1]\n",
    "    key=True\n",
    "  if random.random() < 0.04:\n",
    "    new_img = np.array(new_img, dtype=np.uint8)\n",
    "    gray = cv2.cvtColor(new_img, cv2.COLOR_BGR2GRAY)\n",
    "    img2 = np.zeros_like(new_img)\n",
    "    img2[:,:,0] = gray\n",
    "    img2[:,:,1] = gray\n",
    "    img2[:,:,2] = gray\n",
    "    new_img = img2\n",
    "    key=True\n",
    "  if random.random() < 0.08:\n",
    "    new_img = sk.transform.rotate(new_img, random.uniform(-15, 15))\n",
    "    key=True\n",
    "  if random.random() < 0:\n",
    "    new_img = sk.util.random_noise(new_img)\n",
    "    key=True\n",
    "  if(key):\n",
    "    aug_train_x.append(new_img)\n",
    "    aug_train_y.append(y)\n",
    "\n",
    "train_x.extend(aug_train_x)\n",
    "train_y.extend(aug_train_y)\n",
    "print(len(train_x), len(train_y))"
   ]
  },
  {
   "cell_type": "code",
   "execution_count": 0,
   "metadata": {
    "colab": {
     "base_uri": "https://localhost:8080/",
     "height": 303
    },
    "colab_type": "code",
    "id": "vMx94hS_mLuT",
    "outputId": "89d70bfc-e168-4b0f-c410-f3aaedc4fa68"
   },
   "outputs": [
    {
     "name": "stdout",
     "output_type": "stream",
     "text": [
      "3\n"
     ]
    },
    {
     "data": {
      "text/plain": [
       "<matplotlib.image.AxesImage at 0x7fa4533df4e0>"
      ]
     },
     "execution_count": 281,
     "metadata": {
      "tags": []
     },
     "output_type": "execute_result"
    },
    {
     "data": {
      "image/png": "[encoded data removed]",
      "text/plain": [
       "<Figure size 432x288 with 1 Axes>"
      ]
     },
     "metadata": {
      "tags": []
     },
     "output_type": "display_data"
    }
   ],
   "source": [
    "random_index = np.random.choice(range(len(train_x)))\n",
    "print(train_y[random_index])\n",
    "plt.imshow(train_x[random_index][:, :, ::-1])"
   ]
  },
  {
   "cell_type": "code",
   "execution_count": 0,
   "metadata": {
    "colab": {},
    "colab_type": "code",
    "id": "qejVCy7EmZZI"
   },
   "outputs": [],
   "source": [
    "def add_pad(img, shape):\n",
    "    color_pick = img[0][0]\n",
    "    padded_img = color_pick * np.ones(shape + img.shape[2:3], dtype=np.uint8)\n",
    "    x_offset = int((padded_img.shape[0] - img.shape[0]) / 2)\n",
    "    y_offset = int((padded_img.shape[1] - img.shape[1]) / 2)\n",
    "    padded_img[x_offset:x_offset + img.shape[0], y_offset:y_offset + img.shape[1]] = img\n",
    "\n",
    "    return padded_img\n",
    "\n",
    "\n",
    "def resize(img, shape):\n",
    "    scale = min(shape[0] * 1.0 / img.shape[0], shape[1] * 1.0 / img.shape[1])\n",
    "    if scale != 1:\n",
    "        img = cv2.resize(img, dsize=None, fx=scale, fy=scale, interpolation=cv2.INTER_LINEAR)\n",
    "    return img"
   ]
  },
  {
   "cell_type": "code",
   "execution_count": 0,
   "metadata": {
    "colab": {},
    "colab_type": "code",
    "id": "aDGMuPwomcE3"
   },
   "outputs": [],
   "source": [
    "# Задание 2. Реализуйте класс-наследник Dataset. Он должен возвращать по индексу \n",
    "class StarWarsDataset(Dataset):\n",
    "    def __init__(self, filenames, labels):\n",
    "      self._filenames = filenames\n",
    "      self._labels = labels        \n",
    "\n",
    "    def __len__(self):\n",
    "        return len(self._labels)\n",
    "\n",
    "    def __getitem__(self, idx):\n",
    "        # dataloader запросит какой-то индекс (но не больше чем значение __len__)\n",
    "        # мы должны отдать ему image в виде массива и соотвуствующий ему label\n",
    "        filename = self._filenames[idx]\n",
    "        label = self._labels[idx]\n",
    "\n",
    "        # мы получили имя файла, теперь нужно загрузить картинку как numpy array \n",
    "        # и изменить размер так, чтобы он был 224 на 224\n",
    "        img = filename\n",
    "\n",
    "        shape = (224, 224)\n",
    "        img = resize(img, shape)\n",
    "        img = add_pad(img, shape)\n",
    "        \n",
    "        # меняем порядок каналов и делим все на 255, оборачиваем в torch tensor\n",
    "        # это просто надо делать, потом спросите зачем\n",
    "  \n",
    "        img = torch.tensor(img, dtype=torch.float).permute(2, 0, 1) / 255.0\n",
    "\n",
    "        return img, label"
   ]
  },
  {
   "cell_type": "code",
   "execution_count": 0,
   "metadata": {
    "colab": {},
    "colab_type": "code",
    "id": "iZ4R0IJIqFPL"
   },
   "outputs": [],
   "source": [
    "train_dataset = StarWarsDataset(train_x, train_y)\n",
    "train_dataloder = DataLoader(train_dataset, shuffle=True, batch_size=64, num_workers=0)\n",
    "test_dataset = StarWarsDataset(test_x, test_y)\n",
    "test_dataloder = DataLoader(test_dataset, shuffle=True, batch_size=64, num_workers=0)"
   ]
  },
  {
   "cell_type": "code",
   "execution_count": 0,
   "metadata": {
    "colab": {},
    "colab_type": "code",
    "id": "VL-C4eRQmfcY"
   },
   "outputs": [],
   "source": [
    "import matplotlib.pyplot as plt\n",
    "\n",
    "i = 0\n",
    "for batch in train_dataloder: # получаем 1 batch - 1 итерация подгрузки данных\n",
    "  batch_images, batch_labels = batch     # наш Dataset возвращает tuple, поэтому мы можем сделать так\n",
    "  print(f'Всего батчей по batch_size: {len(train_dataloder)}')\n",
    "  print(f'Лейбл первого элемента в первом батче: {batch_labels[i]}')\n",
    "  print(f'Размер картинки в первом батче: {batch_images[i].shape}')\n",
    "  print(f'Картинка в первом батче: {batch_images[i]}')\n",
    "  plt.imshow(batch_images[i].numpy()[0])\n",
    "  plt.show()\n",
    "  break"
   ]
  },
  {
   "cell_type": "code",
   "execution_count": 0,
   "metadata": {
    "colab": {},
    "colab_type": "code",
    "id": "fB2j0zikmi7u"
   },
   "outputs": [],
   "source": [
    "model = resnet34(pretrained=True) # resnet обученный на ImageNet\n",
    "for param in model.parameters():\n",
    "  param.requires_grad=False\n",
    "\n",
    "num_ftrs = model.fc.in_features\n",
    "model.fc = torch.nn.Linear(num_ftrs, 4)\n",
    "model.to('cuda')\n",
    "\n",
    "# loss и optimizer\n",
    "criterion = torch.nn.CrossEntropyLoss()\n",
    "optimizer = torch.optim.Adam(model.parameters(), lr=0.0005)"
   ]
  },
  {
   "cell_type": "code",
   "execution_count": 0,
   "metadata": {
    "colab": {},
    "colab_type": "code",
    "id": "X9ogKcxVmnC-"
   },
   "outputs": [],
   "source": [
    "def run_test_on_epoch(model, epoch, test_loader):\n",
    "    model.eval()\n",
    "    with torch.no_grad():\n",
    "      test_accuracy = []\n",
    "      test_real = []\n",
    "\n",
    "      for batch_x, batch_y in test_loader:\n",
    "        outputs = model(batch_x.to('cuda')).detach().cpu().numpy()\n",
    "        test_accuracy.append(outputs)\n",
    "        test_real.append(batch_y.detach().cpu().numpy())\n",
    "      print(\"Epoch\", epoch, \"test accuracy\", accuracy_score(np.hstack(test_real), np.argmax(np.concatenate(test_accuracy), axis=1)))\n",
    "    model.train()"
   ]
  },
  {
   "cell_type": "code",
   "execution_count": 0,
   "metadata": {
    "colab": {
     "base_uri": "https://localhost:8080/",
     "height": 459
    },
    "colab_type": "code",
    "id": "620czE2Xmop8",
    "outputId": "cbc27214-9ee0-4cfc-cbb5-4e4b88b3b224"
   },
   "outputs": [
    {
     "name": "stderr",
     "output_type": "stream",
     "text": [
      "  4%|▍         | 1/25 [00:07<03:08,  7.86s/it]"
     ]
    },
    {
     "name": "stdout",
     "output_type": "stream",
     "text": [
      "Epoch 0 test accuracy 0.8715251690458302\n"
     ]
    },
    {
     "name": "stderr",
     "output_type": "stream",
     "text": [
      "\r",
      "  8%|▊         | 2/25 [00:15<03:00,  7.83s/it]"
     ]
    },
    {
     "name": "stdout",
     "output_type": "stream",
     "text": [
      "Epoch 1 test accuracy 0.9083395942900075\n"
     ]
    },
    {
     "name": "stderr",
     "output_type": "stream",
     "text": [
      "\r",
      " 12%|█▏        | 3/25 [00:23<02:51,  7.80s/it]"
     ]
    },
    {
     "name": "stdout",
     "output_type": "stream",
     "text": [
      "Epoch 2 test accuracy 0.9248685199098422\n"
     ]
    },
    {
     "name": "stderr",
     "output_type": "stream",
     "text": [
      "\r",
      " 16%|█▌        | 4/25 [00:31<02:43,  7.78s/it]"
     ]
    },
    {
     "name": "stdout",
     "output_type": "stream",
     "text": [
      "Epoch 3 test accuracy 0.9368895567242674\n"
     ]
    },
    {
     "name": "stderr",
     "output_type": "stream",
     "text": [
      "\r",
      " 20%|██        | 5/25 [00:38<02:35,  7.77s/it]"
     ]
    },
    {
     "name": "stdout",
     "output_type": "stream",
     "text": [
      "Epoch 4 test accuracy 0.9383921863260706\n"
     ]
    },
    {
     "name": "stderr",
     "output_type": "stream",
     "text": [
      "\r",
      " 24%|██▍       | 6/25 [00:46<02:27,  7.77s/it]"
     ]
    },
    {
     "name": "stdout",
     "output_type": "stream",
     "text": [
      "Epoch 5 test accuracy 0.9436513899323816\n"
     ]
    },
    {
     "name": "stderr",
     "output_type": "stream",
     "text": [
      "\r",
      " 28%|██▊       | 7/25 [00:54<02:19,  7.76s/it]"
     ]
    },
    {
     "name": "stdout",
     "output_type": "stream",
     "text": [
      "Epoch 6 test accuracy 0.9436513899323816\n"
     ]
    },
    {
     "name": "stderr",
     "output_type": "stream",
     "text": [
      "\r",
      " 32%|███▏      | 8/25 [01:02<02:12,  7.77s/it]"
     ]
    },
    {
     "name": "stdout",
     "output_type": "stream",
     "text": [
      "Epoch 7 test accuracy 0.9451540195341849\n"
     ]
    },
    {
     "name": "stderr",
     "output_type": "stream",
     "text": [
      "\r",
      " 36%|███▌      | 9/25 [01:09<02:04,  7.76s/it]"
     ]
    },
    {
     "name": "stdout",
     "output_type": "stream",
     "text": [
      "Epoch 8 test accuracy 0.9519158527422991\n"
     ]
    },
    {
     "name": "stderr",
     "output_type": "stream",
     "text": [
      "\r",
      " 40%|████      | 10/25 [01:17<01:56,  7.76s/it]"
     ]
    },
    {
     "name": "stdout",
     "output_type": "stream",
     "text": [
      "Epoch 9 test accuracy 0.9489105935386927\n"
     ]
    },
    {
     "name": "stderr",
     "output_type": "stream",
     "text": [
      "\r",
      " 44%|████▍     | 11/25 [01:25<01:48,  7.78s/it]"
     ]
    },
    {
     "name": "stdout",
     "output_type": "stream",
     "text": [
      "Epoch 10 test accuracy 0.9504132231404959\n",
      "Epoch 11 test accuracy 0.9481592787377912\n"
     ]
    },
    {
     "name": "stderr",
     "output_type": "stream",
     "text": [
      "\r",
      " 52%|█████▏    | 13/25 [01:41<01:33,  7.77s/it]"
     ]
    },
    {
     "name": "stdout",
     "output_type": "stream",
     "text": [
      "Epoch 12 test accuracy 0.9511645379413974\n"
     ]
    },
    {
     "name": "stderr",
     "output_type": "stream",
     "text": [
      "\r",
      " 56%|█████▌    | 14/25 [01:48<01:25,  7.76s/it]"
     ]
    },
    {
     "name": "stdout",
     "output_type": "stream",
     "text": [
      "Epoch 13 test accuracy 0.9519158527422991\n"
     ]
    },
    {
     "name": "stderr",
     "output_type": "stream",
     "text": [
      "\r",
      " 60%|██████    | 15/25 [01:56<01:17,  7.76s/it]"
     ]
    },
    {
     "name": "stdout",
     "output_type": "stream",
     "text": [
      "Epoch 14 test accuracy 0.9564237415477085\n"
     ]
    },
    {
     "name": "stderr",
     "output_type": "stream",
     "text": [
      "\r",
      " 64%|██████▍   | 16/25 [02:04<01:09,  7.76s/it]"
     ]
    },
    {
     "name": "stdout",
     "output_type": "stream",
     "text": [
      "Epoch 15 test accuracy 0.9564237415477085\n"
     ]
    },
    {
     "name": "stderr",
     "output_type": "stream",
     "text": [
      "\r",
      " 68%|██████▊   | 17/25 [02:11<01:01,  7.74s/it]"
     ]
    },
    {
     "name": "stdout",
     "output_type": "stream",
     "text": [
      "Epoch 16 test accuracy 0.9564237415477085\n"
     ]
    },
    {
     "name": "stderr",
     "output_type": "stream",
     "text": [
      "\r",
      " 72%|███████▏  | 18/25 [02:19<00:54,  7.75s/it]"
     ]
    },
    {
     "name": "stdout",
     "output_type": "stream",
     "text": [
      "Epoch 17 test accuracy 0.9586776859504132\n"
     ]
    },
    {
     "name": "stderr",
     "output_type": "stream",
     "text": [
      "\r",
      " 76%|███████▌  | 19/25 [02:27<00:46,  7.79s/it]"
     ]
    },
    {
     "name": "stdout",
     "output_type": "stream",
     "text": [
      "Epoch 18 test accuracy 0.9594290007513148\n"
     ]
    },
    {
     "name": "stderr",
     "output_type": "stream",
     "text": [
      "\r",
      " 80%|████████  | 20/25 [02:35<00:38,  7.78s/it]"
     ]
    },
    {
     "name": "stdout",
     "output_type": "stream",
     "text": [
      "Epoch 19 test accuracy 0.9609316303531179\n"
     ]
    },
    {
     "name": "stderr",
     "output_type": "stream",
     "text": [
      "\r",
      " 84%|████████▍ | 21/25 [02:43<00:31,  7.79s/it]"
     ]
    },
    {
     "name": "stdout",
     "output_type": "stream",
     "text": [
      "Epoch 20 test accuracy 0.9601803155522164\n"
     ]
    },
    {
     "name": "stderr",
     "output_type": "stream",
     "text": [
      "\r",
      " 88%|████████▊ | 22/25 [02:50<00:23,  7.78s/it]"
     ]
    },
    {
     "name": "stdout",
     "output_type": "stream",
     "text": [
      "Epoch 21 test accuracy 0.9579263711495116\n"
     ]
    },
    {
     "name": "stderr",
     "output_type": "stream",
     "text": [
      "\r",
      " 92%|█████████▏| 23/25 [02:58<00:15,  7.78s/it]"
     ]
    },
    {
     "name": "stdout",
     "output_type": "stream",
     "text": [
      "Epoch 22 test accuracy 0.9609316303531179\n"
     ]
    },
    {
     "name": "stderr",
     "output_type": "stream",
     "text": [
      "\r",
      " 96%|█████████▌| 24/25 [03:06<00:07,  7.78s/it]"
     ]
    },
    {
     "name": "stdout",
     "output_type": "stream",
     "text": [
      "Epoch 23 test accuracy 0.9609316303531179\n"
     ]
    },
    {
     "name": "stderr",
     "output_type": "stream",
     "text": [
      "100%|██████████| 25/25 [03:14<00:00,  7.77s/it]"
     ]
    },
    {
     "name": "stdout",
     "output_type": "stream",
     "text": [
      "Epoch 24 test accuracy 0.9616829451540195\n"
     ]
    },
    {
     "name": "stderr",
     "output_type": "stream",
     "text": [
      "\n"
     ]
    }
   ],
   "source": [
    "for epoch in tqdm(range(25)):\n",
    "  for inputs, labels in train_dataloder:\n",
    "    inputs, labels = inputs.cuda(), labels.cuda()\n",
    "    optimizer.zero_grad()\n",
    "    outputs = model(inputs)\n",
    "    loss = criterion(outputs, labels)\n",
    "    loss.backward()\n",
    "    optimizer.step()\n",
    "\n",
    "  run_test_on_epoch(model, epoch, test_dataloder)"
   ]
  }
 ],
 "metadata": {
  "accelerator": "GPU",
  "colab": {
   "collapsed_sections": [],
   "name": "3.2-CNN.ipynb",
   "provenance": []
  },
  "kernelspec": {
   "display_name": "Python 3",
   "language": "python",
   "name": "python3"
  },
  "language_info": {
   "codemirror_mode": {
    "name": "ipython",
    "version": 3
   },
   "file_extension": ".py",
   "mimetype": "text/x-python",
   "name": "python",
   "nbconvert_exporter": "python",
   "pygments_lexer": "ipython3",
   "version": "3.7.6"
  }
 },
 "nbformat": 4,
 "nbformat_minor": 1
}
