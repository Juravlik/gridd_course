{
  "nbformat": 4,
  "nbformat_minor": 0,
  "metadata": {
    "colab": {
      "name": "2-XGBoost.ipynb",
      "provenance": [],
      "collapsed_sections": [],
      "toc_visible": true
    },
    "kernelspec": {
      "name": "python3",
      "display_name": "Python 3"
    },
    "accelerator": "GPU"
  },
  "cells": [
    {
      "cell_type": "code",
      "metadata": {
        "id": "MQaFMe_TSxC4",
        "colab_type": "code",
        "colab": {
          "base_uri": "https://localhost:8080/",
          "height": 122
        },
        "outputId": "f039885e-70cd-4123-bea4-430c7c982179"
      },
      "source": [
        "from google.colab import drive \n",
        "drive.mount('/content/gdrive', force_remount=True)"
      ],
      "execution_count": 1,
      "outputs": [
        {
          "output_type": "stream",
          "text": [
            "Go to this URL in a browser: https://accounts.google.com/o/oauth2/auth?client_id=947318989803-6bn6qk8qdgf4n4g3pfee6491hc0brc4i.apps.googleusercontent.com&redirect_uri=urn%3aietf%3awg%3aoauth%3a2.0%3aoob&response_type=code&scope=email%20https%3a%2f%2fwww.googleapis.com%2fauth%2fdocs.test%20https%3a%2f%2fwww.googleapis.com%2fauth%2fdrive%20https%3a%2f%2fwww.googleapis.com%2fauth%2fdrive.photos.readonly%20https%3a%2f%2fwww.googleapis.com%2fauth%2fpeopleapi.readonly\n",
            "\n",
            "Enter your authorization code:\n",
            "··········\n",
            "Mounted at /content/gdrive\n"
          ],
          "name": "stdout"
        }
      ]
    },
    {
      "cell_type": "code",
      "metadata": {
        "id": "3Xru8Vm87Rs7",
        "colab_type": "code",
        "colab": {}
      },
      "source": [
        "!cp -r /content/gdrive/'My Drive'/train.zip ."
      ],
      "execution_count": 2,
      "outputs": []
    },
    {
      "cell_type": "code",
      "metadata": {
        "id": "vidqM0mmTZy9",
        "colab_type": "code",
        "colab": {
          "base_uri": "https://localhost:8080/",
          "height": 34
        },
        "outputId": "ef01d19c-7a17-4f85-8d0d-af0f5866dbca"
      },
      "source": [
        "from zipfile import ZipFile\n",
        "\n",
        "with ZipFile(\"train.zip\", 'r') as zip:\n",
        "  zip.extractall()\n",
        "  print('Done')"
      ],
      "execution_count": 3,
      "outputs": [
        {
          "output_type": "stream",
          "text": [
            "Done\n"
          ],
          "name": "stdout"
        }
      ]
    },
    {
      "cell_type": "code",
      "metadata": {
        "id": "XW-8hceSTZJH",
        "colab_type": "code",
        "colab": {}
      },
      "source": [
        "#!pip install tensorflow==1.15.2\n",
        "import tensorflow\n",
        "print(tensorflow.__version__)"
      ],
      "execution_count": null,
      "outputs": []
    },
    {
      "cell_type": "code",
      "metadata": {
        "id": "4dzE7IcQIgfD",
        "colab_type": "code",
        "colab": {}
      },
      "source": [
        "import pandas as pd\n",
        "from glob import glob\n",
        "import os\n",
        "from PIL import Image\n",
        "import tensorflow\n",
        "import numpy as np\n",
        "import time\n",
        "import random\n",
        "import pathlib\n",
        "import keras\n",
        "from keras.applications.resnet50 import ResNet50\n",
        "from keras.preprocessing import image\n",
        "from keras.applications.resnet50 import preprocess_input, decode_predictions\n",
        "import xgboost as xgb\n",
        "from sklearn.model_selection import train_test_split\n",
        "from sklearn.metrics import accuracy_score\n",
        "from tqdm import tqdm\n",
        "\n",
        "random.seed(34)\n",
        "\n",
        "resnet = ResNet50(weights='imagenet')"
      ],
      "execution_count": null,
      "outputs": []
    },
    {
      "cell_type": "code",
      "metadata": {
        "colab_type": "code",
        "id": "Qc3NpJys1ROO",
        "colab": {}
      },
      "source": [
        "def read_dataset(path, size_batch, num_batch):\n",
        "    X = []\n",
        "    y = []\n",
        "    image_paths_list = glob(os.path.join(path, 'train', '*.jpg'))\n",
        "    for i in tqdm(range(num_batch)):\n",
        "      #choose 1000 random samples and then throw out selected images from image_paths_list\n",
        "      image_paths_sample = random.sample(image_paths_list, size_batch)\n",
        "      image_paths_list = list(set(image_paths_list) - set(image_paths_sample))\n",
        "      for image_path in image_paths_sample:\n",
        "          image_name = os.path.basename(image_path)\n",
        "          image_name_parts = image_name.split('.')\n",
        "          label = image_name_parts[0] if len(image_name_parts) == 3 else None\n",
        "\n",
        "          if label:\n",
        "              y.append(int(label == 'cat'))\n",
        "          \n",
        "          #use resnet and get X\n",
        "          x = image.img_to_array(image.load_img(image_path, target_size=(224, 224)))\n",
        "          x = np.expand_dims(x, axis=0)\n",
        "          x = preprocess_input(x)\n",
        "          resnet_feature = resnet.predict(x)\n",
        "          resnet_feature_np = np.array(resnet_feature)\n",
        "          #print(resnet_feature_np.shape)\n",
        "          X.append(resnet_feature_np.flatten())\n",
        "                \n",
        "    return np.array(X), y"
      ],
      "execution_count": null,
      "outputs": []
    },
    {
      "cell_type": "code",
      "metadata": {
        "id": "l6qGCy7_I7oX",
        "colab_type": "code",
        "colab": {}
      },
      "source": [
        "features, labels = read_dataset('', 500, 6) #path='data/' \n",
        "x_train, x_test, y_train, y_test = train_test_split(features, labels, test_size=0.3)\n",
        "print(x_train.shape)"
      ],
      "execution_count": null,
      "outputs": []
    },
    {
      "cell_type": "code",
      "metadata": {
        "id": "nNxtjcnMBZxB",
        "colab_type": "code",
        "colab": {}
      },
      "source": [
        "%%time\n",
        "clf = xgb.XGBClassifier()\n",
        "clf.fit(x_train, y_train)\n",
        "\n",
        "score_train = clf.score(x_train, y_train)\n",
        "score_test = clf.score(x_test, y_test)\n",
        "print(score_train, score_test)\n",
        "#get 98.1-98.5 on test with standard parametres"
      ],
      "execution_count": null,
      "outputs": []
    },
    {
      "cell_type": "markdown",
      "metadata": {
        "id": "XY1SusKcm4eq",
        "colab_type": "text"
      },
      "source": [
        "n_estimators=200: 0.9989 0.9870 time: 3min 12s\n",
        "\n",
        "n_estimators=150: 0.997 0.98653 time: 2min 21s - остановился на таком кол-ве, по крайней мере пока подбираю learning_rate.\n",
        "\n",
        "learning_rate=0.01: 0.979 0.9761 time: 2min 31s\n",
        "\n",
        "learning_rate=0.2: 1.0 0.986 time: 2min 20s\n",
        "\n",
        "learning_rate=0.3: 1.0 0.98773 time: 2min 19s - неплохое значение, дальше уже явный оверфит начинается, из-за чего скор на тесте падает при скоре на трейне в 1.0. Ради интереса попробовал n_estimators=200, learning_rate = 0.3: 1.0 0.987733 time: 2min 58s.\n",
        "\n"
      ]
    },
    {
      "cell_type": "code",
      "metadata": {
        "id": "M34Lp5LO5Bi0",
        "colab_type": "code",
        "colab": {
          "base_uri": "https://localhost:8080/",
          "height": 68
        },
        "outputId": "887bb19b-0870-4c8b-e803-03a7300ff4ab"
      },
      "source": [
        "%%time\n",
        "clf = xgb.XGBClassifier(n_estimators=200, learning_rate=0.3)\n",
        "clf.fit(x_train, y_train)\n",
        "\n",
        "score_train = clf.score(x_train, y_train)\n",
        "score_test = clf.score(x_test, y_test)\n",
        "print(score_train, score_test)"
      ],
      "execution_count": null,
      "outputs": [
        {
          "output_type": "stream",
          "text": [
            "1.0 0.9873333333333333\n",
            "CPU times: user 2min 55s, sys: 39.4 ms, total: 2min 55s\n",
            "Wall time: 2min 55s\n"
          ],
          "name": "stdout"
        }
      ]
    },
    {
      "cell_type": "code",
      "metadata": {
        "id": "nrXrZO3S1KzZ",
        "colab_type": "code",
        "colab": {}
      },
      "source": [
        "from hyperopt import hp, tpe, Trials, STATUS_OK, fmin\n",
        "from sklearn.metrics import roc_auc_score\n",
        "\n",
        "SEED = 314159265\n",
        "\n",
        "def score(params):\n",
        "    print(\"Training with params: \")\n",
        "    print(params)\n",
        "    num_round = int(params['n_estimators'])\n",
        "    del params['n_estimators']\n",
        "    dtrain = xgb.DMatrix(x_train, label=y_train)\n",
        "    dtest = xgb.DMatrix(x_test, label=y_test)\n",
        "    watchlist = [(dtest, 'eval'), (dtrain, 'train')]\n",
        "    gbm_model = xgb.train(params, dtrain, num_round,\n",
        "                          evals=watchlist,\n",
        "                          verbose_eval=True)\n",
        "    predictions = gbm_model.predict(dtest,\n",
        "                                    ntree_limit=gbm_model.best_iteration + 1)\n",
        "    score = roc_auc_score(y_test, predictions)\n",
        "    loss = 1 - score\n",
        "    return {'loss': loss, 'status': STATUS_OK}\n",
        "\n",
        "\n",
        "def optimize(\n",
        "             #trials, \n",
        "             random_state=SEED):\n",
        "    space = {\n",
        "        'n_estimators': 200,\n",
        "        'learning_rate': 0.3,\n",
        "        'max_depth':  hp.choice('max_depth', np.arange(1, 14, dtype=int)),\n",
        "        'min_child_weight': hp.quniform('min_child_weight', 1, 6, 1),\n",
        "        'subsample': hp.quniform('subsample', 0.5, 1, 0.05),\n",
        "        'gamma': hp.quniform('gamma', 0.5, 1, 0.05),\n",
        "        'colsample_bytree': hp.quniform('colsample_bytree', 0.5, 1, 0.05),\n",
        "        'eval_metric': 'auc',\n",
        "        'objective': 'binary:logistic',\n",
        "        'nthread': 4,\n",
        "        'booster': 'gbtree',\n",
        "        'tree_method': 'exact',\n",
        "        'silent': 1,\n",
        "        'seed': random_state\n",
        "    }\n",
        "    best = fmin(score, space, algo=tpe.suggest, max_evals=15)\n",
        "    return best\n",
        "\n",
        "best_hyperparams = optimize()\n",
        "print(\"The best hyperparameters are: \", \"\\n\")\n",
        "print(best_hyperparams)"
      ],
      "execution_count": null,
      "outputs": []
    },
    {
      "cell_type": "markdown",
      "metadata": {
        "id": "8XPw95K6oGUM",
        "colab_type": "text"
      },
      "source": [
        "The best hyperparameters are:  \n",
        "\n",
        "{'colsample_bytree': 0.9500000000000001, 'gamma': 0.6000000000000001, 'max_depth': 3, 'min_child_weight': 2.0, 'subsample': 0.8500000000000001}\n",
        "\n",
        "1.0 0.987733 time: 2min 51s С этими параметрами. Не очень сильно увеличился скор :( Что-то не так сделал, или тут уже разумно просто ставить больше n_estimators? Решил не менять с 200, точность вроде бы и так нормальная."
      ]
    },
    {
      "cell_type": "code",
      "metadata": {
        "id": "PkM0XyA2ANyZ",
        "colab_type": "code",
        "colab": {
          "base_uri": "https://localhost:8080/",
          "height": 68
        },
        "outputId": "28068801-7eaf-4316-b6b5-f817ed5f5c63"
      },
      "source": [
        "%%time\n",
        "clf = xgb.XGBClassifier(n_estimators=200, learning_rate=0.3, colsample_bytree=0.9500000000000001, gamma=0.6000000000000001, max_depth=3, min_child_weight=2.0, subsample=0.8500000000000001)\n",
        "clf.fit(x_train, y_train)\n",
        "\n",
        "score_train = clf.score(x_train, y_train)\n",
        "score_test = clf.score(x_test, y_test)\n",
        "print(score_train, score_test)"
      ],
      "execution_count": null,
      "outputs": [
        {
          "output_type": "stream",
          "text": [
            "1.0 0.9811111111111112\n",
            "CPU times: user 12.2 s, sys: 125 ms, total: 12.3 s\n",
            "Wall time: 13 s\n"
          ],
          "name": "stdout"
        }
      ]
    },
    {
      "cell_type": "code",
      "metadata": {
        "id": "nEwhQq4ORLOX",
        "colab_type": "code",
        "colab": {
          "base_uri": "https://localhost:8080/",
          "height": 346
        },
        "outputId": "f366fb05-550f-469d-f97a-c568ed0344c6"
      },
      "source": [
        "%%time\n",
        "from sklearn.feature_selection import SelectFromModel\n",
        "from xgboost import plot_importance\n",
        "\n",
        "selection = SelectFromModel(clf, threshold=0.001, prefit=True)\n",
        "select_x_train = selection.transform(x_train)\n",
        "\n",
        "selection_model = xgb.XGBClassifier(n_estimators=200, learning_rate=0.3, colsample_bytree=0.9500000000000001, gamma=0.6000000000000001, max_depth=3, min_child_weight=2.0, subsample=0.8500000000000001)\n",
        "selection_model.fit(select_x_train, y_train)\n",
        "\n",
        "select_x_test = selection.transform(x_test)\n",
        "y_pred = selection_model.predict(select_x_test)\n",
        "predictions = [round(value) for value in y_pred]\n",
        "accuracy = accuracy_score(y_test, predictions)\n",
        "print(\"n=%d, Accuracy: %.5f\" % (select_x_train.shape[1], accuracy))\n",
        "\n",
        "plot_importance(selection_model, max_num_features=20)"
      ],
      "execution_count": null,
      "outputs": [
        {
          "output_type": "stream",
          "text": [
            "n=85, Accuracy: 0.98111\n",
            "CPU times: user 1.16 s, sys: 9.99 ms, total: 1.17 s\n",
            "Wall time: 1.3 s\n"
          ],
          "name": "stdout"
        },
        {
          "output_type": "display_data",
          "data": {
            "image/png": "[encoded data removed]",
            "text/plain": [
              "<Figure size 432x288 with 1 Axes>"
            ]
          },
          "metadata": {
            "tags": []
          }
        }
      ]
    }
  ]
}