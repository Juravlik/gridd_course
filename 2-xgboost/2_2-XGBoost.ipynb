{
 "cells": [
  {
   "cell_type": "markdown",
   "metadata": {},
   "source": [
    "Разница с предыдущей версией проекта лишь в том, что теперь мы срезаем с модели выходной слой"
   ]
  },
  {
   "cell_type": "code",
   "execution_count": 0,
   "metadata": {
    "colab": {
     "base_uri": "https://localhost:8080/",
     "height": 119
    },
    "colab_type": "code",
    "id": "cbf9MZkmRaO1",
    "outputId": "bfc86a4c-720d-4ad9-b13e-53db52544289",
    "scrolled": true
   },
   "outputs": [
    {
     "name": "stdout",
     "output_type": "stream",
     "text": [
      "`%tensorflow_version` only switches the major version: 1.x or 2.x.\n",
      "You set: `1.14`. This will be interpreted as: `1.x`.\n",
      "\n",
      "\n",
      "TensorFlow 1.x selected.\n",
      "1.15.2\n"
     ]
    }
   ],
   "source": [
    "#!pip install tensorflow==1.14.0\n",
    "%tensorflow_version 1.14\n",
    "import tensorflow\n",
    "print(tensorflow.__version__)"
   ]
  },
  {
   "cell_type": "code",
   "execution_count": 0,
   "metadata": {
    "colab": {
     "base_uri": "https://localhost:8080/",
     "height": 122
    },
    "colab_type": "code",
    "id": "dF70XWRMZI9I",
    "outputId": "ca35b5af-c41c-4ce4-ff91-98455856b109"
   },
   "outputs": [
    {
     "name": "stdout",
     "output_type": "stream",
     "text": [
      "Go to this URL in a browser: https://accounts.google.com/o/oauth2/auth?client_id=947318989803-6bn6qk8qdgf4n4g3pfee6491hc0brc4i.apps.googleusercontent.com&redirect_uri=urn%3aietf%3awg%3aoauth%3a2.0%3aoob&response_type=code&scope=email%20https%3a%2f%2fwww.googleapis.com%2fauth%2fdocs.test%20https%3a%2f%2fwww.googleapis.com%2fauth%2fdrive%20https%3a%2f%2fwww.googleapis.com%2fauth%2fdrive.photos.readonly%20https%3a%2f%2fwww.googleapis.com%2fauth%2fpeopleapi.readonly\n",
      "\n",
      "Enter your authorization code:\n",
      "··········\n",
      "Mounted at /content/gdrive\n"
     ]
    }
   ],
   "source": [
    "from google.colab import drive \n",
    "from zipfile import ZipFile\n",
    "\n",
    "drive.mount('/content/gdrive', force_remount=True)\n",
    "!cp -r /content/gdrive/'My Drive'/train.zip ."
   ]
  },
  {
   "cell_type": "code",
   "execution_count": 0,
   "metadata": {
    "colab": {
     "base_uri": "https://localhost:8080/",
     "height": 34
    },
    "colab_type": "code",
    "id": "RyU27gipZVGJ",
    "outputId": "2f6821f6-ee9e-4e8c-c8e8-10c6cb1b533c"
   },
   "outputs": [
    {
     "name": "stdout",
     "output_type": "stream",
     "text": [
      "Done\n"
     ]
    }
   ],
   "source": [
    "with ZipFile(\"train.zip\", 'r') as zip:\n",
    "  zip.extractall()\n",
    "  print('Done')"
   ]
  },
  {
   "cell_type": "code",
   "execution_count": 0,
   "metadata": {
    "colab": {
     "base_uri": "https://localhost:8080/",
     "height": 34
    },
    "colab_type": "code",
    "id": "3X1_rOyvQmXM",
    "outputId": "24738b5a-568a-41dc-d667-40e50b488a00"
   },
   "outputs": [
    {
     "name": "stderr",
     "output_type": "stream",
     "text": [
      "Using TensorFlow backend.\n"
     ]
    }
   ],
   "source": [
    "import pandas as pd\n",
    "from glob import glob\n",
    "import os\n",
    "from PIL import Image\n",
    "import numpy as np\n",
    "import random\n",
    "from tqdm import tqdm\n",
    "\n",
    "import xgboost as xgb\n",
    "from keras.applications.resnet50 import ResNet50\n",
    "from keras.preprocessing import image\n",
    "from keras.applications.resnet50 import preprocess_input, decode_predictions\n",
    "from xgboost import XGBClassifier\n",
    "from sklearn.model_selection import train_test_split\n",
    "from sklearn.metrics import accuracy_score\n",
    "random.seed(34)"
   ]
  },
  {
   "cell_type": "code",
   "execution_count": 0,
   "metadata": {
    "colab": {},
    "colab_type": "code",
    "id": "7mZapf3ekywn"
   },
   "outputs": [],
   "source": [
    "resnet = ResNet50(weights='imagenet', include_top=False)"
   ]
  },
  {
   "cell_type": "code",
   "execution_count": 0,
   "metadata": {
    "colab": {},
    "colab_type": "code",
    "id": "dAdSt9SrYxfH"
   },
   "outputs": [],
   "source": [
    "def read_dataset(path, size_batch, num_batch):\n",
    "    X = []\n",
    "    y = []\n",
    "    image_paths_list = glob(os.path.join(path, 'train', '*.jpg'))\n",
    "    for i in tqdm(range(num_batch)):\n",
    "      #choose 1000 random samples and then throw out selected images from image_paths_list\n",
    "      image_paths_sample = random.sample(image_paths_list, size_batch)\n",
    "      image_paths_list = list(set(image_paths_list) - set(image_paths_sample))\n",
    "      for image_path in image_paths_sample:\n",
    "          image_name = os.path.basename(image_path)\n",
    "          image_name_parts = image_name.split('.')\n",
    "          label = image_name_parts[0] if len(image_name_parts) == 3 else None\n",
    "\n",
    "          if label:\n",
    "              y.append(int(label == 'cat'))\n",
    "    \n",
    "          x = image.img_to_array(image.load_img(image_path, target_size=(224, 224)))\n",
    "          x = np.expand_dims(x, axis=0)\n",
    "          x = preprocess_input(x)\n",
    "          resnet_feature = resnet.predict(x)\n",
    "          resnet_feature_np = np.array(resnet_feature)\n",
    "          #print(resnet_feature_np.shape)\n",
    "          X.append(resnet_feature_np.flatten())\n",
    "                \n",
    "    return np.array(X), y"
   ]
  },
  {
   "cell_type": "code",
   "execution_count": 0,
   "metadata": {
    "colab": {},
    "colab_type": "code",
    "id": "iBe0EuXXZCVP"
   },
   "outputs": [],
   "source": [
    "features, labels = read_dataset('', 1000, 3) #path='data/' \n",
    "x_train, x_test, y_train, y_test = train_test_split(features, labels, test_size=0.3)\n",
    "print(x_train.shape)"
   ]
  },
  {
   "cell_type": "code",
   "execution_count": 0,
   "metadata": {
    "colab": {
     "base_uri": "https://localhost:8080/",
     "height": 68
    },
    "colab_type": "code",
    "id": "RYQY1N_2Zzgx",
    "outputId": "aafb72eb-c24e-400f-ebe6-65b8a8496c2e"
   },
   "outputs": [
    {
     "name": "stdout",
     "output_type": "stream",
     "text": [
      "1.0 0.9644444444444444\n",
      "CPU times: user 7min 48s, sys: 170 ms, total: 7min 48s\n",
      "Wall time: 7min 48s\n"
     ]
    }
   ],
   "source": [
    "%%time\n",
    "clf = xgb.XGBClassifier()\n",
    "clf.fit(x_train, y_train)\n",
    "\n",
    "score_train = clf.score(x_train, y_train)\n",
    "score_test = clf.score(x_test, y_test)\n",
    "print(score_train, score_test)\n",
    "#get 96.44 on test with standard parametres, 8min"
   ]
  },
  {
   "cell_type": "code",
   "execution_count": 0,
   "metadata": {
    "colab": {},
    "colab_type": "code",
    "id": "k3RY0jlQkPH9"
   },
   "outputs": [],
   "source": [
    "from hyperopt import hp, tpe, Trials, STATUS_OK, fmin\n",
    "from sklearn.metrics import roc_auc_score\n",
    "\n",
    "SEED = 314159265\n",
    "\n",
    "def score(params):\n",
    "    print(\"Training with params: \")\n",
    "    print(params)\n",
    "    num_round = int(params['n_estimators'])\n",
    "    del params['n_estimators']\n",
    "    dtrain = xgb.DMatrix(x_train, label=y_train)\n",
    "    dtest = xgb.DMatrix(x_test, label=y_test)\n",
    "    watchlist = [(dtest, 'eval'), (dtrain, 'train')]\n",
    "    gbm_model = xgb.train(params, dtrain, num_round,\n",
    "                          evals=watchlist,\n",
    "                          verbose_eval=True)\n",
    "    predictions = gbm_model.predict(dtest,\n",
    "                                    ntree_limit=gbm_model.best_iteration + 1)\n",
    "    score = roc_auc_score(y_test, predictions)\n",
    "    loss = 1 - score\n",
    "    return {'loss': loss, 'status': STATUS_OK}\n",
    "\n",
    "\n",
    "def optimize(\n",
    "             #trials, \n",
    "             random_state=SEED):\n",
    "    space = {\n",
    "        'n_estimators': 200,\n",
    "        'learning_rate': 0.3,\n",
    "        'max_depth':  hp.choice('max_depth', np.arange(1, 14, dtype=int)),\n",
    "        'min_child_weight': hp.quniform('min_child_weight', 1, 6, 1),\n",
    "        'subsample': hp.quniform('subsample', 0.5, 1, 0.05),\n",
    "        'gamma': hp.quniform('gamma', 0.5, 1, 0.05),\n",
    "        'colsample_bytree': hp.quniform('colsample_bytree', 0.5, 1, 0.05),\n",
    "        'eval_metric': 'auc',\n",
    "        'objective': 'binary:logistic',\n",
    "        'nthread': 4,\n",
    "        'booster': 'gbtree',\n",
    "        'tree_method': 'exact',\n",
    "        'silent': 1,\n",
    "        'seed': random_state\n",
    "    }\n",
    "    best = fmin(score, space, algo=tpe.suggest, max_evals=15)\n",
    "    return best\n",
    "\n",
    "best_hyperparams = optimize()\n",
    "print(\"The best hyperparameters are: \", \"\\n\")\n",
    "print(best_hyperparams)"
   ]
  },
  {
   "cell_type": "code",
   "execution_count": 0,
   "metadata": {
    "colab": {
     "base_uri": "https://localhost:8080/",
     "height": 68
    },
    "colab_type": "code",
    "id": "lbRuhedKy0cB",
    "outputId": "6a6349a0-a9d9-49d9-b01c-f9868513ce94"
   },
   "outputs": [
    {
     "name": "stdout",
     "output_type": "stream",
     "text": [
      "1.0 0.9711111111111111\n",
      "CPU times: user 13min 24s, sys: 2.66 s, total: 13min 26s\n",
      "Wall time: 13min 27s\n"
     ]
    }
   ],
   "source": [
    "%%time\n",
    "clf = xgb.XGBClassifier(n_estimators=200, learning_rate=0.3, colsample_bytree=0.9500000000000001, gamma=0.6000000000000001, max_depth=3, min_child_weight=2.0, subsample=0.8500000000000001)\n",
    "clf.fit(x_train, y_train)\n",
    "\n",
    "score_train = clf.score(x_train, y_train)\n",
    "score_test = clf.score(x_test, y_test)\n",
    "print(score_train, score_test)\n",
    "#get 0.9711"
   ]
  },
  {
   "cell_type": "code",
   "execution_count": 0,
   "metadata": {
    "colab": {
     "base_uri": "https://localhost:8080/",
     "height": 346
    },
    "colab_type": "code",
    "id": "mobHRrheFLC8",
    "outputId": "38c45bd0-983c-4bef-fbd3-dcc3b055f988"
   },
   "outputs": [
    {
     "name": "stdout",
     "output_type": "stream",
     "text": [
      "n=106, Accuracy: 0.97222\n",
      "CPU times: user 1.61 s, sys: 19 ms, total: 1.63 s\n",
      "Wall time: 1.63 s\n"
     ]
    },
    {
     "data": {
      "image/png": "[encoded data removed]",
      "text/plain": [
       "<Figure size 432x288 with 1 Axes>"
      ]
     },
     "metadata": {
      "tags": []
     },
     "output_type": "display_data"
    }
   ],
   "source": [
    "%%time\n",
    "from sklearn.feature_selection import SelectFromModel\n",
    "from xgboost import plot_importance\n",
    "\n",
    "selection = SelectFromModel(clf, threshold=0.001, prefit=True)\n",
    "select_x_train = selection.transform(x_train)\n",
    "\n",
    "selection_model = xgb.XGBClassifier(n_estimators=200, learning_rate=0.3, colsample_bytree=0.9500000000000001, gamma=0.6000000000000001, max_depth=3, min_child_weight=2.0, subsample=0.8500000000000001)\n",
    "selection_model.fit(select_x_train, y_train)\n",
    "\n",
    "select_x_test = selection.transform(x_test)\n",
    "y_pred = selection_model.predict(select_x_test)\n",
    "predictions = [round(value) for value in y_pred]\n",
    "accuracy = accuracy_score(y_test, predictions)\n",
    "print(\"n=%d, Accuracy: %.5f\" % (select_x_train.shape[1], accuracy))\n",
    "plot_importance(selection_model, max_num_features=20)"
   ]
  }
 ],
 "metadata": {
  "accelerator": "GPU",
  "colab": {
   "machine_shape": "hm",
   "name": "2.2-XGBoost.ipynb",
   "provenance": []
  },
  "kernelspec": {
   "display_name": "Python 3",
   "language": "python",
   "name": "python3"
  },
  "language_info": {
   "codemirror_mode": {
    "name": "ipython",
    "version": 3
   },
   "file_extension": ".py",
   "mimetype": "text/x-python",
   "name": "python",
   "nbconvert_exporter": "python",
   "pygments_lexer": "ipython3",
   "version": "3.7.6"
  }
 },
 "nbformat": 4,
 "nbformat_minor": 1
}
